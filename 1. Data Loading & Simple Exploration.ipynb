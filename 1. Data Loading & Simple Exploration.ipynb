{
 "cells": [
  {
   "cell_type": "code",
   "execution_count": 4,
   "metadata": {},
   "outputs": [],
   "source": [
    "import pandas as pd\n",
    "import spacy"
   ]
  },
  {
   "cell_type": "code",
   "execution_count": 3,
   "metadata": {},
   "outputs": [
    {
     "name": "stderr",
     "output_type": "stream",
     "text": [
      "/home/katia/.local/lib/python3.6/site-packages/spacy/util.py:275: UserWarning: [W031] Model 'en_core_web_sm' (2.2.0) requires spaCy v2.2 and is incompatible with the current spaCy version (2.3.2). This may lead to unexpected results or runtime errors. To resolve this, download a newer compatible model or retrain your custom model with the current spaCy version. For more details and available updates, run: python -m spacy validate\n",
      "  warnings.warn(warn_msg)\n"
     ]
    }
   ],
   "source": [
    "nlp = spacy.load('en_core_web_sm')"
   ]
  },
  {
   "cell_type": "markdown",
   "metadata": {},
   "source": [
    "## 1. Load data"
   ]
  },
  {
   "cell_type": "code",
   "execution_count": 6,
   "metadata": {},
   "outputs": [
    {
     "data": {
      "text/html": [
       "<div>\n",
       "<style scoped>\n",
       "    .dataframe tbody tr th:only-of-type {\n",
       "        vertical-align: middle;\n",
       "    }\n",
       "\n",
       "    .dataframe tbody tr th {\n",
       "        vertical-align: top;\n",
       "    }\n",
       "\n",
       "    .dataframe thead th {\n",
       "        text-align: right;\n",
       "    }\n",
       "</style>\n",
       "<table border=\"1\" class=\"dataframe\">\n",
       "  <thead>\n",
       "    <tr style=\"text-align: right;\">\n",
       "      <th></th>\n",
       "      <th>Book Title</th>\n",
       "      <th>Paragraph</th>\n",
       "      <th>Character</th>\n",
       "      <th>Author</th>\n",
       "    </tr>\n",
       "  </thead>\n",
       "  <tbody>\n",
       "    <tr>\n",
       "      <th>0</th>\n",
       "      <td>Rabbit Angstrom: Rabbit, Run</td>\n",
       "      <td>The straight path is made smooth. Mr. Springer...</td>\n",
       "      <td>Mr. Springer</td>\n",
       "      <td>John Updike</td>\n",
       "    </tr>\n",
       "    <tr>\n",
       "      <th>1</th>\n",
       "      <td>The Sound and Fury</td>\n",
       "      <td>“What’s the matter?” I says. “I never knew you...</td>\n",
       "      <td>Sarah</td>\n",
       "      <td>William Faulkner</td>\n",
       "    </tr>\n",
       "    <tr>\n",
       "      <th>2</th>\n",
       "      <td>Beloved</td>\n",
       "      <td>Sethe moaned. The girl’s fingers were so cool ...</td>\n",
       "      <td>Sethe</td>\n",
       "      <td>Toni Morrison</td>\n",
       "    </tr>\n",
       "    <tr>\n",
       "      <th>3</th>\n",
       "      <td>A Son at The Front</td>\n",
       "      <td>John Campton, the American portrait-painter, s...</td>\n",
       "      <td>John Campton</td>\n",
       "      <td>Edith Wharton</td>\n",
       "    </tr>\n",
       "    <tr>\n",
       "      <th>4</th>\n",
       "      <td>The Murder on the Links</td>\n",
       "      <td>It was five minutes past nine when I entered o...</td>\n",
       "      <td>Poirot</td>\n",
       "      <td>Agatha Christie</td>\n",
       "    </tr>\n",
       "    <tr>\n",
       "      <th>5</th>\n",
       "      <td>The Left Hand of Darkness</td>\n",
       "      <td>The king seems to be finished with his masonry...</td>\n",
       "      <td>the king</td>\n",
       "      <td>Ursula K. Le Guin</td>\n",
       "    </tr>\n",
       "    <tr>\n",
       "      <th>6</th>\n",
       "      <td>The Story of a Great School Master</td>\n",
       "      <td>Of all the men I have met—and I have now had a...</td>\n",
       "      <td>F.W. Sanderson</td>\n",
       "      <td>H. G. Wells</td>\n",
       "    </tr>\n",
       "    <tr>\n",
       "      <th>7</th>\n",
       "      <td>Don Quixote</td>\n",
       "      <td>Don Quixote was firmly persuaded that this was...</td>\n",
       "      <td>Don Quixote</td>\n",
       "      <td>Miguel de Cervates</td>\n",
       "    </tr>\n",
       "    <tr>\n",
       "      <th>8</th>\n",
       "      <td>Pride and Prejudice</td>\n",
       "      <td>Not all that Mrs. Bennet, however, with the as...</td>\n",
       "      <td>Mrs. Bennet</td>\n",
       "      <td>Jane Austen</td>\n",
       "    </tr>\n",
       "  </tbody>\n",
       "</table>\n",
       "</div>"
      ],
      "text/plain": [
       "                           Book Title  \\\n",
       "0        Rabbit Angstrom: Rabbit, Run   \n",
       "1                  The Sound and Fury   \n",
       "2                             Beloved   \n",
       "3                  A Son at The Front   \n",
       "4             The Murder on the Links   \n",
       "5           The Left Hand of Darkness   \n",
       "6  The Story of a Great School Master   \n",
       "7                         Don Quixote   \n",
       "8                 Pride and Prejudice   \n",
       "\n",
       "                                           Paragraph       Character  \\\n",
       "0  The straight path is made smooth. Mr. Springer...    Mr. Springer   \n",
       "1  “What’s the matter?” I says. “I never knew you...           Sarah   \n",
       "2  Sethe moaned. The girl’s fingers were so cool ...           Sethe   \n",
       "3  John Campton, the American portrait-painter, s...    John Campton   \n",
       "4  It was five minutes past nine when I entered o...          Poirot   \n",
       "5  The king seems to be finished with his masonry...        the king   \n",
       "6  Of all the men I have met—and I have now had a...  F.W. Sanderson   \n",
       "7  Don Quixote was firmly persuaded that this was...     Don Quixote   \n",
       "8  Not all that Mrs. Bennet, however, with the as...     Mrs. Bennet   \n",
       "\n",
       "               Author  \n",
       "0         John Updike  \n",
       "1    William Faulkner  \n",
       "2       Toni Morrison  \n",
       "3       Edith Wharton  \n",
       "4     Agatha Christie  \n",
       "5   Ursula K. Le Guin  \n",
       "6         H. G. Wells  \n",
       "7  Miguel de Cervates  \n",
       "8         Jane Austen  "
      ]
     },
     "execution_count": 6,
     "metadata": {},
     "output_type": "execute_result"
    }
   ],
   "source": [
    "paragraphs = pd.read_excel('data/Sample_Paragraphs.xlsx')\n",
    "paragraphs"
   ]
  },
  {
   "cell_type": "markdown",
   "metadata": {},
   "source": [
    "- Note: The Bible has been excluded from this first experiment as its structure differs much from the rest of the books."
   ]
  },
  {
   "cell_type": "markdown",
   "metadata": {},
   "source": [
    "## 2. Count how many times the name of the character to be re-genders occurs in the texts\n",
    "- as it is mentioned in the Character column\n",
    "- as the separate tokens of what is in the Character column, e.g. John Campton - John & Campton & Jon Campton"
   ]
  },
  {
   "cell_type": "markdown",
   "metadata": {},
   "source": [
    "a. count how many tokens there are in each character column"
   ]
  },
  {
   "cell_type": "code",
   "execution_count": 9,
   "metadata": {},
   "outputs": [
    {
     "name": "stdout",
     "output_type": "stream",
     "text": [
      "Mr. Springer 2\n",
      "Springer 4 12 PERSON\n",
      "--------\n",
      "Sarah 1\n",
      "Sarah 0 5 PERSON\n",
      "--------\n",
      "Sethe 1\n",
      "John Campton 2\n",
      "John Campton 0 12 PERSON\n",
      "--------\n",
      "Poirot 1\n",
      "the king 2\n",
      "F.W. Sanderson 2\n",
      "F.W. Sanderson 0 14 PERSON\n",
      "--------\n",
      "Don Quixote 2\n",
      "Don Quixote 0 11 PERSON\n",
      "--------\n",
      "Mrs. Bennet 2\n",
      "Bennet 5 11 PERSON\n",
      "--------\n"
     ]
    }
   ],
   "source": [
    "for character_name in paragraphs.Character:\n",
    "    \n",
    "    # count how many words the character name consists of\n",
    "    tokens = character_name.split(' ')\n",
    "    print(character_name, len(tokens))\n",
    "    \n",
    "    # remove words which are not named entities, such as `Mrs.` and `the`\n",
    "    doc = nlp(character_name)\n",
    "\n",
    "    \n",
    "    for ent in doc.ents:\n",
    "        print(ent.text, ent.start_char, ent.end_char, ent.label_)\n",
    "        print('--------')\n",
    "    "
   ]
  },
  {
   "cell_type": "code",
   "execution_count": null,
   "metadata": {},
   "outputs": [],
   "source": []
  }
 ],
 "metadata": {
  "kernelspec": {
   "display_name": "Python 3",
   "language": "python",
   "name": "python3"
  },
  "language_info": {
   "codemirror_mode": {
    "name": "ipython",
    "version": 3
   },
   "file_extension": ".py",
   "mimetype": "text/x-python",
   "name": "python",
   "nbconvert_exporter": "python",
   "pygments_lexer": "ipython3",
   "version": "3.6.9"
  }
 },
 "nbformat": 4,
 "nbformat_minor": 4
}
