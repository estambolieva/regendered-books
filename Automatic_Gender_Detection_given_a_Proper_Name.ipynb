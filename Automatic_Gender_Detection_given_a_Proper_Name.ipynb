{
  "nbformat": 4,
  "nbformat_minor": 0,
  "metadata": {
    "colab": {
      "name": "Automatic Gender Detection given a Proper Name.ipynb",
      "provenance": [],
      "collapsed_sections": []
    },
    "kernelspec": {
      "name": "python3",
      "display_name": "Python 3"
    }
  },
  "cells": [
    {
      "cell_type": "code",
      "metadata": {
        "id": "ZEV-NqJQi6df"
      },
      "source": [
        "protagonist_name_list = [\n",
        "                         \"Sarah\", # The Sound and Fury FEMALE\n",
        "                         \"Sethe\", # Beloved FEMALE\n",
        "                         \"John Campton\", # A Son at The Front MALE\n",
        "                         \"Hercule Poirot\", # The Murder on the Links MALE\n",
        "                         \"the king\", # The Left Hand of Darkness MALE\n",
        "                         \"F.W. Sanderson\", # The Story of a Great School Master MALE\n",
        "                         \"Don Quixote\" # Don Quixote MALE\n",
        "]\n",
        "\n",
        "protagonist_special_names = [\n",
        "                         \"Mr. Springer\", # Rabbit Angstrom: Rabbit, Run MALE\n",
        "                         \"Mrs. Bennet\" # Pride and Prejudice FEMALE\n",
        "]\n",
        "\n",
        "protagonist_genders = [\n",
        "                       \"female\",\n",
        "                       \"female\",\n",
        "                       \"male\",\n",
        "                       \"male\",\n",
        "                       \"male\",\n",
        "                       \"male\",\n",
        "                       \"male\"\n",
        "]"
      ],
      "execution_count": 61,
      "outputs": []
    },
    {
      "cell_type": "code",
      "metadata": {
        "id": "Razfi69cpKyJ"
      },
      "source": [
        "import string\n",
        "\n",
        "def detect_mr_and_mrs(name):\n",
        "  gender = None\n",
        "  titles_male = ['mr']\n",
        "  titles_female = ['mrs', 'miss', 'ms']\n",
        "  # remove punctuation\n",
        "  name = name.translate(str.maketrans('', '', string.punctuation))\n",
        "  name = name.lower()\n",
        "  # split the name into tokes\n",
        "  name_tokens = name.split(' ')\n",
        "  # see if any of those tokens in in the TITLES list\n",
        "\n",
        "  for tkn in name_tokens:\n",
        "    if tkn in titles_male:\n",
        "      gender = 'male'\n",
        "    if tkn in titles_female:\n",
        "      gender = 'female'\n",
        "\n",
        "  return gender\n",
        "  "
      ],
      "execution_count": 56,
      "outputs": []
    },
    {
      "cell_type": "code",
      "metadata": {
        "id": "lA1EB4nXpvJn",
        "outputId": "ebf93cb7-d17c-430c-a6ec-b9b571d99a8e",
        "colab": {
          "base_uri": "https://localhost:8080/"
        }
      },
      "source": [
        "  for nm in protagonist_special_names:\n",
        "    print(nm, detect_mr_and_mrs(nm))"
      ],
      "execution_count": 59,
      "outputs": [
        {
          "output_type": "stream",
          "text": [
            "Mr. Springer male\n",
            "Mrs. Bennet female\n"
          ],
          "name": "stdout"
        }
      ]
    },
    {
      "cell_type": "markdown",
      "metadata": {
        "id": "ibCDAp3FktQM"
      },
      "source": [
        "## Genderize"
      ]
    },
    {
      "cell_type": "code",
      "metadata": {
        "id": "BuSb8xgtkZrO",
        "outputId": "e5e7f645-89c4-4843-dec2-5a0d5c4efe0b",
        "colab": {
          "base_uri": "https://localhost:8080/"
        }
      },
      "source": [
        "!pip3 install Genderize"
      ],
      "execution_count": 4,
      "outputs": [
        {
          "output_type": "stream",
          "text": [
            "Collecting Genderize\n",
            "  Downloading https://files.pythonhosted.org/packages/d9/22/d287d4b6599b3247631a7dcd4ae6e440338b73f9836182b74c33e1b7261e/Genderize-0.3.1-py3-none-any.whl\n",
            "Requirement already satisfied: requests>=1.0.0 in /usr/local/lib/python3.6/dist-packages (from Genderize) (2.23.0)\n",
            "Requirement already satisfied: chardet<4,>=3.0.2 in /usr/local/lib/python3.6/dist-packages (from requests>=1.0.0->Genderize) (3.0.4)\n",
            "Requirement already satisfied: idna<3,>=2.5 in /usr/local/lib/python3.6/dist-packages (from requests>=1.0.0->Genderize) (2.10)\n",
            "Requirement already satisfied: certifi>=2017.4.17 in /usr/local/lib/python3.6/dist-packages (from requests>=1.0.0->Genderize) (2020.6.20)\n",
            "Requirement already satisfied: urllib3!=1.25.0,!=1.25.1,<1.26,>=1.21.1 in /usr/local/lib/python3.6/dist-packages (from requests>=1.0.0->Genderize) (1.24.3)\n",
            "Installing collected packages: Genderize\n",
            "Successfully installed Genderize-0.3.1\n"
          ],
          "name": "stdout"
        }
      ]
    },
    {
      "cell_type": "code",
      "metadata": {
        "id": "XkkybDuakslE"
      },
      "source": [
        "from genderize import Genderize"
      ],
      "execution_count": 5,
      "outputs": []
    },
    {
      "cell_type": "code",
      "metadata": {
        "id": "bmpLwohQkw4d",
        "outputId": "8da64b9b-6a25-4bcf-de91-93538e6acc66",
        "colab": {
          "base_uri": "https://localhost:8080/"
        }
      },
      "source": [
        "genderize_results = []\n",
        "\n",
        "temp_results = Genderize().get(protagonist_name_list)\n",
        "temp_results"
      ],
      "execution_count": 64,
      "outputs": [
        {
          "output_type": "execute_result",
          "data": {
            "text/plain": [
              "[{'count': 174584, 'gender': 'female', 'name': 'Sarah', 'probability': 0.98},\n",
              " {'count': 8, 'gender': 'male', 'name': 'Sethe', 'probability': 0.75},\n",
              " {'count': 0, 'gender': None, 'name': 'John Campton', 'probability': 0.0},\n",
              " {'count': 0, 'gender': None, 'name': 'Hercule Poirot', 'probability': 0.0},\n",
              " {'count': 0, 'gender': None, 'name': 'the king', 'probability': 0.0},\n",
              " {'count': 0, 'gender': None, 'name': 'F.W. Sanderson', 'probability': 0.0},\n",
              " {'count': 0, 'gender': None, 'name': 'Don Quixote', 'probability': 0.0}]"
            ]
          },
          "metadata": {
            "tags": []
          },
          "execution_count": 64
        }
      ]
    },
    {
      "cell_type": "code",
      "metadata": {
        "id": "RP3bY-4qror4"
      },
      "source": [
        "temp_results = [d['gender'] for d in Genderize().get(protagonist_name_list) if 'gender' in d]"
      ],
      "execution_count": 67,
      "outputs": []
    },
    {
      "cell_type": "markdown",
      "metadata": {
        "id": "5uwOfN0nr0BJ"
      },
      "source": [
        "### Genderize Precision"
      ]
    },
    {
      "cell_type": "code",
      "metadata": {
        "id": "An-hZoPwrxTc",
        "outputId": "35131d8b-7051-4719-ef94-cb205e7aaff8",
        "colab": {
          "base_uri": "https://localhost:8080/"
        }
      },
      "source": [
        "overlap = set(enumerate(protagonist_genders)).intersection(set(enumerate(temp_results)))\n",
        "len(overlap)/len(protagonist_genders)* 100"
      ],
      "execution_count": 74,
      "outputs": [
        {
          "output_type": "execute_result",
          "data": {
            "text/plain": [
              "14.285714285714285"
            ]
          },
          "metadata": {
            "tags": []
          },
          "execution_count": 74
        }
      ]
    },
    {
      "cell_type": "markdown",
      "metadata": {
        "id": "BnX8qZ84k6aN"
      },
      "source": [
        "## Gender-guesser"
      ]
    },
    {
      "cell_type": "code",
      "metadata": {
        "id": "Nu4jKEYQk0Wz",
        "outputId": "c5903f65-fbf9-4451-f26c-2294d5cfdd71",
        "colab": {
          "base_uri": "https://localhost:8080/"
        }
      },
      "source": [
        "!pip3 install gender-guesser"
      ],
      "execution_count": 7,
      "outputs": [
        {
          "output_type": "stream",
          "text": [
            "Collecting gender-guesser\n",
            "\u001b[?25l  Downloading https://files.pythonhosted.org/packages/13/fb/3f2aac40cd2421e164cab1668e0ca10685fcf896bd6b3671088f8aab356e/gender_guesser-0.4.0-py2.py3-none-any.whl (379kB)\n",
            "\r\u001b[K     |▉                               | 10kB 18.6MB/s eta 0:00:01\r\u001b[K     |█▊                              | 20kB 2.9MB/s eta 0:00:01\r\u001b[K     |██▋                             | 30kB 4.0MB/s eta 0:00:01\r\u001b[K     |███▌                            | 40kB 4.3MB/s eta 0:00:01\r\u001b[K     |████▎                           | 51kB 3.4MB/s eta 0:00:01\r\u001b[K     |█████▏                          | 61kB 3.7MB/s eta 0:00:01\r\u001b[K     |██████                          | 71kB 4.0MB/s eta 0:00:01\r\u001b[K     |███████                         | 81kB 4.5MB/s eta 0:00:01\r\u001b[K     |███████▊                        | 92kB 4.7MB/s eta 0:00:01\r\u001b[K     |████████▋                       | 102kB 4.6MB/s eta 0:00:01\r\u001b[K     |█████████▌                      | 112kB 4.6MB/s eta 0:00:01\r\u001b[K     |██████████▍                     | 122kB 4.6MB/s eta 0:00:01\r\u001b[K     |███████████▎                    | 133kB 4.6MB/s eta 0:00:01\r\u001b[K     |████████████                    | 143kB 4.6MB/s eta 0:00:01\r\u001b[K     |█████████████                   | 153kB 4.6MB/s eta 0:00:01\r\u001b[K     |█████████████▉                  | 163kB 4.6MB/s eta 0:00:01\r\u001b[K     |██████████████▊                 | 174kB 4.6MB/s eta 0:00:01\r\u001b[K     |███████████████▌                | 184kB 4.6MB/s eta 0:00:01\r\u001b[K     |████████████████▍               | 194kB 4.6MB/s eta 0:00:01\r\u001b[K     |█████████████████▎              | 204kB 4.6MB/s eta 0:00:01\r\u001b[K     |██████████████████▏             | 215kB 4.6MB/s eta 0:00:01\r\u001b[K     |███████████████████             | 225kB 4.6MB/s eta 0:00:01\r\u001b[K     |███████████████████▉            | 235kB 4.6MB/s eta 0:00:01\r\u001b[K     |████████████████████▊           | 245kB 4.6MB/s eta 0:00:01\r\u001b[K     |█████████████████████▋          | 256kB 4.6MB/s eta 0:00:01\r\u001b[K     |██████████████████████▌         | 266kB 4.6MB/s eta 0:00:01\r\u001b[K     |███████████████████████▎        | 276kB 4.6MB/s eta 0:00:01\r\u001b[K     |████████████████████████▏       | 286kB 4.6MB/s eta 0:00:01\r\u001b[K     |█████████████████████████       | 296kB 4.6MB/s eta 0:00:01\r\u001b[K     |██████████████████████████      | 307kB 4.6MB/s eta 0:00:01\r\u001b[K     |██████████████████████████▉     | 317kB 4.6MB/s eta 0:00:01\r\u001b[K     |███████████████████████████▋    | 327kB 4.6MB/s eta 0:00:01\r\u001b[K     |████████████████████████████▌   | 337kB 4.6MB/s eta 0:00:01\r\u001b[K     |█████████████████████████████▍  | 348kB 4.6MB/s eta 0:00:01\r\u001b[K     |██████████████████████████████▎ | 358kB 4.6MB/s eta 0:00:01\r\u001b[K     |███████████████████████████████ | 368kB 4.6MB/s eta 0:00:01\r\u001b[K     |████████████████████████████████| 378kB 4.6MB/s eta 0:00:01\r\u001b[K     |████████████████████████████████| 389kB 4.6MB/s \n",
            "\u001b[?25hInstalling collected packages: gender-guesser\n",
            "Successfully installed gender-guesser-0.4.0\n"
          ],
          "name": "stdout"
        }
      ]
    },
    {
      "cell_type": "code",
      "metadata": {
        "id": "2COvrmduk_7y"
      },
      "source": [
        "import gender_guesser.detector as gender"
      ],
      "execution_count": 8,
      "outputs": []
    },
    {
      "cell_type": "code",
      "metadata": {
        "id": "AgOtsf_glCpw"
      },
      "source": [
        "d = gender.Detector(case_sensitive=False)"
      ],
      "execution_count": 11,
      "outputs": []
    },
    {
      "cell_type": "code",
      "metadata": {
        "id": "bA5G6jPPlFCZ",
        "outputId": "ba1235cd-b80d-49df-cdb6-253f2fa4b7e4",
        "colab": {
          "base_uri": "https://localhost:8080/"
        }
      },
      "source": [
        "temp_results = []\n",
        "for nm in protagonist_name_list:\n",
        "  temp_results.append(d.get_gender(nm))\n",
        "\n",
        "temp_results"
      ],
      "execution_count": 76,
      "outputs": [
        {
          "output_type": "execute_result",
          "data": {
            "text/plain": [
              "['female', 'unknown', 'unknown', 'unknown', 'unknown', 'unknown', 'unknown']"
            ]
          },
          "metadata": {
            "tags": []
          },
          "execution_count": 76
        }
      ]
    },
    {
      "cell_type": "code",
      "metadata": {
        "id": "fpbB61wds8WV"
      },
      "source": [
        ""
      ],
      "execution_count": null,
      "outputs": []
    },
    {
      "cell_type": "markdown",
      "metadata": {
        "id": "rgkSEIYAmIfH"
      },
      "source": [
        "## NLTK Names"
      ]
    },
    {
      "cell_type": "code",
      "metadata": {
        "id": "aGCQwYmIlJig",
        "outputId": "feb61587-3cde-481d-86f2-4f4ae0a56b83",
        "colab": {
          "base_uri": "https://localhost:8080/"
        }
      },
      "source": [
        "!pip3 install nltk"
      ],
      "execution_count": 13,
      "outputs": [
        {
          "output_type": "stream",
          "text": [
            "Requirement already satisfied: nltk in /usr/local/lib/python3.6/dist-packages (3.2.5)\n",
            "Requirement already satisfied: six in /usr/local/lib/python3.6/dist-packages (from nltk) (1.15.0)\n"
          ],
          "name": "stdout"
        }
      ]
    },
    {
      "cell_type": "code",
      "metadata": {
        "id": "a68NbuahmAI-"
      },
      "source": [
        "import nltk"
      ],
      "execution_count": 19,
      "outputs": []
    },
    {
      "cell_type": "code",
      "metadata": {
        "id": "VjYY4zo-l-uA",
        "outputId": "b8f92cfb-3a91-494b-9b9e-109ac7013774",
        "colab": {
          "base_uri": "https://localhost:8080/"
        }
      },
      "source": [
        "nltk.download('names')"
      ],
      "execution_count": 20,
      "outputs": [
        {
          "output_type": "stream",
          "text": [
            "[nltk_data] Downloading package names to /root/nltk_data...\n",
            "[nltk_data]   Unzipping corpora/names.zip.\n"
          ],
          "name": "stdout"
        },
        {
          "output_type": "execute_result",
          "data": {
            "text/plain": [
              "True"
            ]
          },
          "metadata": {
            "tags": []
          },
          "execution_count": 20
        }
      ]
    },
    {
      "cell_type": "code",
      "metadata": {
        "id": "_bDt8nhmlj3K"
      },
      "source": [
        "from nltk.corpus import names"
      ],
      "execution_count": 21,
      "outputs": []
    },
    {
      "cell_type": "code",
      "metadata": {
        "id": "3jmPudxcluSG",
        "outputId": "4a7f3d01-5f35-4cb1-efb9-1fcbea5f3686",
        "colab": {
          "base_uri": "https://localhost:8080/"
        }
      },
      "source": [
        "names.words('female.txt')[0:10]"
      ],
      "execution_count": 23,
      "outputs": [
        {
          "output_type": "execute_result",
          "data": {
            "text/plain": [
              "['Abagael',\n",
              " 'Abagail',\n",
              " 'Abbe',\n",
              " 'Abbey',\n",
              " 'Abbi',\n",
              " 'Abbie',\n",
              " 'Abby',\n",
              " 'Abigael',\n",
              " 'Abigail',\n",
              " 'Abigale']"
            ]
          },
          "metadata": {
            "tags": []
          },
          "execution_count": 23
        }
      ]
    },
    {
      "cell_type": "markdown",
      "metadata": {
        "id": "B8_ZUb-jmK1m"
      },
      "source": [
        "## "
      ]
    },
    {
      "cell_type": "code",
      "metadata": {
        "id": "78clqHallwJE"
      },
      "source": [
        ""
      ],
      "execution_count": null,
      "outputs": []
    }
  ]
}