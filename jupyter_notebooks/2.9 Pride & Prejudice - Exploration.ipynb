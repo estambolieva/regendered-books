{
 "cells": [
  {
   "cell_type": "code",
   "execution_count": 1,
   "metadata": {},
   "outputs": [],
   "source": [
    "import pandas as pd\n",
    "import spacy"
   ]
  },
  {
   "cell_type": "code",
   "execution_count": 2,
   "metadata": {},
   "outputs": [
    {
     "name": "stderr",
     "output_type": "stream",
     "text": [
      "/home/katia/.local/lib/python3.6/site-packages/spacy/util.py:275: UserWarning: [W031] Model 'en_core_web_sm' (2.2.0) requires spaCy v2.2 and is incompatible with the current spaCy version (2.3.2). This may lead to unexpected results or runtime errors. To resolve this, download a newer compatible model or retrain your custom model with the current spaCy version. For more details and available updates, run: python -m spacy validate\n",
      "  warnings.warn(warn_msg)\n"
     ]
    }
   ],
   "source": [
    "nlp = spacy.load('en')"
   ]
  },
  {
   "cell_type": "code",
   "execution_count": 3,
   "metadata": {},
   "outputs": [],
   "source": [
    "PLACEHOLDER_NAME = 'PROT_NAME'"
   ]
  },
  {
   "cell_type": "markdown",
   "metadata": {},
   "source": [
    "## 1. Load data"
   ]
  },
  {
   "cell_type": "code",
   "execution_count": 4,
   "metadata": {},
   "outputs": [
    {
     "data": {
      "text/html": [
       "<div>\n",
       "<style scoped>\n",
       "    .dataframe tbody tr th:only-of-type {\n",
       "        vertical-align: middle;\n",
       "    }\n",
       "\n",
       "    .dataframe tbody tr th {\n",
       "        vertical-align: top;\n",
       "    }\n",
       "\n",
       "    .dataframe thead th {\n",
       "        text-align: right;\n",
       "    }\n",
       "</style>\n",
       "<table border=\"1\" class=\"dataframe\">\n",
       "  <thead>\n",
       "    <tr style=\"text-align: right;\">\n",
       "      <th></th>\n",
       "      <th>Book Title</th>\n",
       "      <th>Paragraph</th>\n",
       "      <th>Character</th>\n",
       "      <th>Author</th>\n",
       "    </tr>\n",
       "  </thead>\n",
       "  <tbody>\n",
       "    <tr>\n",
       "      <th>0</th>\n",
       "      <td>Rabbit Angstrom: Rabbit, Run</td>\n",
       "      <td>The straight path is made smooth. Mr. Springer...</td>\n",
       "      <td>Mr. Springer</td>\n",
       "      <td>John Updike</td>\n",
       "    </tr>\n",
       "    <tr>\n",
       "      <th>1</th>\n",
       "      <td>The Sound and Fury</td>\n",
       "      <td>“What’s the matter?” I says. “I never knew you...</td>\n",
       "      <td>Sarah</td>\n",
       "      <td>William Faulkner</td>\n",
       "    </tr>\n",
       "    <tr>\n",
       "      <th>2</th>\n",
       "      <td>Beloved</td>\n",
       "      <td>Sethe moaned. The girl’s fingers were so cool ...</td>\n",
       "      <td>Sethe</td>\n",
       "      <td>Toni Morrison</td>\n",
       "    </tr>\n",
       "    <tr>\n",
       "      <th>3</th>\n",
       "      <td>A Son at The Front</td>\n",
       "      <td>John Campton, the American portrait-painter, s...</td>\n",
       "      <td>John Campton</td>\n",
       "      <td>Edith Wharton</td>\n",
       "    </tr>\n",
       "    <tr>\n",
       "      <th>4</th>\n",
       "      <td>The Murder on the Links</td>\n",
       "      <td>It was five minutes past nine when I entered o...</td>\n",
       "      <td>Poirot</td>\n",
       "      <td>Agatha Christie</td>\n",
       "    </tr>\n",
       "    <tr>\n",
       "      <th>5</th>\n",
       "      <td>The Left Hand of Darkness</td>\n",
       "      <td>The king seems to be finished with his masonry...</td>\n",
       "      <td>the king</td>\n",
       "      <td>Ursula K. Le Guin</td>\n",
       "    </tr>\n",
       "    <tr>\n",
       "      <th>6</th>\n",
       "      <td>The Story of a Great School Master</td>\n",
       "      <td>Of all the men I have met—and I have now had a...</td>\n",
       "      <td>F.W. Sanderson</td>\n",
       "      <td>H. G. Wells</td>\n",
       "    </tr>\n",
       "    <tr>\n",
       "      <th>7</th>\n",
       "      <td>Don Quixote</td>\n",
       "      <td>Don Quixote was firmly persuaded that this was...</td>\n",
       "      <td>Don Quixote</td>\n",
       "      <td>Miguel de Cervates</td>\n",
       "    </tr>\n",
       "    <tr>\n",
       "      <th>8</th>\n",
       "      <td>Pride and Prejudice</td>\n",
       "      <td>Not all that Mrs. Bennet, however, with the as...</td>\n",
       "      <td>Mrs. Bennet</td>\n",
       "      <td>Jane Austen</td>\n",
       "    </tr>\n",
       "  </tbody>\n",
       "</table>\n",
       "</div>"
      ],
      "text/plain": [
       "                           Book Title  \\\n",
       "0        Rabbit Angstrom: Rabbit, Run   \n",
       "1                  The Sound and Fury   \n",
       "2                             Beloved   \n",
       "3                  A Son at The Front   \n",
       "4             The Murder on the Links   \n",
       "5           The Left Hand of Darkness   \n",
       "6  The Story of a Great School Master   \n",
       "7                         Don Quixote   \n",
       "8                 Pride and Prejudice   \n",
       "\n",
       "                                           Paragraph       Character  \\\n",
       "0  The straight path is made smooth. Mr. Springer...    Mr. Springer   \n",
       "1  “What’s the matter?” I says. “I never knew you...           Sarah   \n",
       "2  Sethe moaned. The girl’s fingers were so cool ...           Sethe   \n",
       "3  John Campton, the American portrait-painter, s...    John Campton   \n",
       "4  It was five minutes past nine when I entered o...          Poirot   \n",
       "5  The king seems to be finished with his masonry...        the king   \n",
       "6  Of all the men I have met—and I have now had a...  F.W. Sanderson   \n",
       "7  Don Quixote was firmly persuaded that this was...     Don Quixote   \n",
       "8  Not all that Mrs. Bennet, however, with the as...     Mrs. Bennet   \n",
       "\n",
       "               Author  \n",
       "0         John Updike  \n",
       "1    William Faulkner  \n",
       "2       Toni Morrison  \n",
       "3       Edith Wharton  \n",
       "4     Agatha Christie  \n",
       "5   Ursula K. Le Guin  \n",
       "6         H. G. Wells  \n",
       "7  Miguel de Cervates  \n",
       "8         Jane Austen  "
      ]
     },
     "execution_count": 4,
     "metadata": {},
     "output_type": "execute_result"
    }
   ],
   "source": [
    "excerpts = pd.read_excel('data/Sample_Paragraphs.xlsx', 'Sheet1')\n",
    "excerpts"
   ]
  },
  {
   "cell_type": "markdown",
   "metadata": {},
   "source": [
    "### Get only the text & the protagonist for this chosen book"
   ]
  },
  {
   "cell_type": "code",
   "execution_count": 5,
   "metadata": {},
   "outputs": [],
   "source": [
    "text = excerpts.loc[8].Paragraph\n",
    "protagonist = excerpts.loc[8].Character"
   ]
  },
  {
   "cell_type": "markdown",
   "metadata": {},
   "source": [
    "## 2. Count how many times the name of the character to be re-genders occurs in the texts\n",
    "- as it is mentioned in the Character column\n",
    "- as the separate tokens of what is in the Character column, e.g. John Campton - John & Campton & Jon Campton"
   ]
  },
  {
   "cell_type": "markdown",
   "metadata": {},
   "source": [
    "a. count how many tokens there are in each character column"
   ]
  },
  {
   "cell_type": "code",
   "execution_count": 6,
   "metadata": {},
   "outputs": [
    {
     "name": "stdout",
     "output_type": "stream",
     "text": [
      "Bennet 5 11 PERSON\n",
      "--------\n"
     ]
    }
   ],
   "source": [
    "# we do not split the character name of Mrs. Bennet\n",
    "\n",
    "# see if spacy removes words which are not named entities, such as `Mrs.` and `the`\n",
    "doc = nlp(protagonist)\n",
    "\n",
    "for ent in doc.ents:\n",
    "    print(ent.text, ent.start_char, ent.end_char, ent.label_)\n",
    "\n",
    "print('--------')\n",
    "# unfortunately yes - and in this case we cannot lose `Mrs.` as we need to differentiate from `Mr. Bennet`"
   ]
  },
  {
   "cell_type": "markdown",
   "metadata": {},
   "source": [
    "**Observation**: When `neuralcoref` is imported at the top, the above line's execution kills the current kernel. \n",
    "    This might be a memory problem - needs further investigation"
   ]
  },
  {
   "cell_type": "markdown",
   "metadata": {},
   "source": [
    "#### a. split the text in paragraphs\n",
    "\n",
    "#### b. count how many times the string, which is the protagonist name, occurs in each paragraph (verify that we have not missed something)\n",
    "\n",
    "#### c. find the references to the protagonist in each paragraph"
   ]
  },
  {
   "cell_type": "code",
   "execution_count": 7,
   "metadata": {},
   "outputs": [
    {
     "name": "stdout",
     "output_type": "stream",
     "text": [
      "There are 4 paragraphs detected.\n"
     ]
    }
   ],
   "source": [
    "# a. split the excerpt into paragraphs when trhe char sequence \\n\\n is detected\n",
    "paragraphs = text.split('\\n\\n')\n",
    "print('There are', len(paragraphs), 'paragraphs detected.')"
   ]
  },
  {
   "cell_type": "code",
   "execution_count": 8,
   "metadata": {},
   "outputs": [
    {
     "name": "stdout",
     "output_type": "stream",
     "text": [
      "The protagonist's name occurs 1 times in paragraph 1\n",
      "--------\n",
      "The protagonist's name occurs 1 times in paragraph 2\n",
      "--------\n",
      "The protagonist's name occurs 0 times in paragraph 3\n",
      "--------\n",
      "The protagonist's name occurs 2 times in paragraph 4\n",
      "--------\n"
     ]
    }
   ],
   "source": [
    "# b. count how many times the protagonist's name occurs in each paragraph\n",
    "i = 1\n",
    "for paragraph in paragraphs:\n",
    "    name_count = paragraph.count(protagonist)\n",
    "    print(\"The protagonist's name occurs\", name_count, 'times in paragraph', i)\n",
    "    print('--------')\n",
    "    i += 1\n",
    "    \n",
    "# replace each occurence of the protagonist's name with a placeholder - to visually see what has been changed\n",
    "# text = text.replace(protagonist, PLACEHOLDER_NAME)"
   ]
  },
  {
   "cell_type": "markdown",
   "metadata": {},
   "source": [
    "**Observation:** yes, this is correct, see the labelled data in this [Google Doc](https://docs.google.com/document/d/1SuEvxH0g0Dkt1kTc4VW_Xkzz1MC784sU22K_Oofac84/edit?ts=5f07b543#)"
   ]
  },
  {
   "cell_type": "code",
   "execution_count": 9,
   "metadata": {},
   "outputs": [
    {
     "name": "stderr",
     "output_type": "stream",
     "text": [
      "/usr/lib/python3.6/importlib/_bootstrap.py:219: RuntimeWarning: spacy.morphology.Morphology size changed, may indicate binary incompatibility. Expected 104 from C header, got 112 from PyObject\n",
      "  return f(*args, **kwds)\n",
      "/usr/lib/python3.6/importlib/_bootstrap.py:219: RuntimeWarning: spacy.vocab.Vocab size changed, may indicate binary incompatibility. Expected 96 from C header, got 112 from PyObject\n",
      "  return f(*args, **kwds)\n",
      "/usr/lib/python3.6/importlib/_bootstrap.py:219: RuntimeWarning: spacy.tokens.span.Span size changed, may indicate binary incompatibility. Expected 72 from C header, got 80 from PyObject\n",
      "  return f(*args, **kwds)\n"
     ]
    },
    {
     "data": {
      "text/plain": [
       "<spacy.lang.en.English at 0x7f9a79b4cc18>"
      ]
     },
     "execution_count": 9,
     "metadata": {},
     "output_type": "execute_result"
    }
   ],
   "source": [
    "# c. find the references to the protagonist in each paragraph\n",
    "\n",
    "# load the co-reference resolution models\n",
    "import neuralcoref\n",
    "# nlp = spacy.load('en')\n",
    "neuralcoref.add_to_pipe(nlp)"
   ]
  },
  {
   "cell_type": "code",
   "execution_count": null,
   "metadata": {},
   "outputs": [],
   "source": [
    "# process each paragraph one by one\n",
    "for paragraph in paragraphs:\n",
    "    doc = nlp(paragraph)"
   ]
  },
  {
   "cell_type": "code",
   "execution_count": null,
   "metadata": {},
   "outputs": [],
   "source": []
  }
 ],
 "metadata": {
  "kernelspec": {
   "display_name": "Python 3",
   "language": "python",
   "name": "python3"
  },
  "language_info": {
   "codemirror_mode": {
    "name": "ipython",
    "version": 3
   },
   "file_extension": ".py",
   "mimetype": "text/x-python",
   "name": "python",
   "nbconvert_exporter": "python",
   "pygments_lexer": "ipython3",
   "version": "3.6.9"
  }
 },
 "nbformat": 4,
 "nbformat_minor": 4
}
